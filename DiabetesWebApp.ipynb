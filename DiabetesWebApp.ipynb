{
 "cells": [
  {
   "cell_type": "code",
   "execution_count": 1,
   "metadata": {},
   "outputs": [
    {
     "name": "stdout",
     "output_type": "stream",
     "text": [
      "Overwriting diabetes.py\n"
     ]
    }
   ],
   "source": [
    "%%writefile diabetes.py\n",
    "import streamlit as st\n",
    "import pandas as pd\n",
    "import numpy as np\n",
    "import pickle\n",
    "from sklearn.ensemble import RandomForestClassifier\n",
    "\n",
    "st.write(\"\"\"\n",
    "# Diabetes Prediction App\n",
    "This app predicts that the person is diabetic or **NOT**!\n",
    "\"\"\")\n",
    "\n",
    "st.sidebar.header('User Input Features')\n",
    "\n",
    "st.sidebar.markdown(\"\"\"\n",
    "[Example CSV input file](diabetes.csv)\n",
    "\"\"\")\n",
    "\n",
    "# Collects user input features into dataframe\n",
    "uploaded_file = st.sidebar.file_uploader(\"Upload your input CSV file\", type=[\"csv\"])\n",
    "if uploaded_file is not None:\n",
    "    input_df = pd.read_csv(uploaded_file)\n",
    "else:\n",
    "    def user_input_features():\n",
    "        Pregnancies = st.sidebar.slider('Pregnancies',1,17,3)\n",
    "        Glucose = st.sidebar.slider('Glucose', 0,199,121)\n",
    "        BloodPressure = st.sidebar.slider('Blood Pressure', 0,122,69)\n",
    "        SkinThickness = st.sidebar.slider('Skin Thickness', 0,99,21)\n",
    "        Insulin = st.sidebar.slider('Insulin', 0,846,80)\n",
    "        BMI = st.sidebar.slider('BMI', 0.0,67.1,32.0)\n",
    "        DiabetesPedigreeFunction = st.sidebar.slider('Diabetes Pedigree Function', 0.078,2.42,0.47)\n",
    "        Age = st.sidebar.slider('Age', 21,81,33)\n",
    "        data = {'Pregnancies': Pregnancies,\n",
    "                'Glucose': Glucose,\n",
    "                'BloodPressure': BloodPressure,\n",
    "                'SkinThickness': SkinThickness,\n",
    "                'Insulin': Insulin,\n",
    "                'BMI': BMI,\n",
    "                'DiabetesPedigreeFunction': DiabetesPedigreeFunction,\n",
    "                'Age': Age}\n",
    "        features = pd.DataFrame(data, index=[0])\n",
    "        return features\n",
    "    input_df = user_input_features()\n",
    "\n",
    "# Combines user input features with entire diabetes dataset\n",
    "diabetes_raw = pd.read_csv(\"diabetes.csv\")\n",
    "diabetes = diabetes_raw.drop(columns=['Outcome'], axis=1)\n",
    "df = pd.concat([input_df,diabetes],axis=0)\n",
    "\n",
    "df = df[:1] # Selects only the first row (the user input data)\n",
    "\n",
    "# Displays the user input features\n",
    "st.subheader('User Input features')\n",
    "\n",
    "if uploaded_file is not None:\n",
    "    st.write(df)\n",
    "else:\n",
    "    st.write('Awaiting CSV file to be uploaded. Currently using example input parameters (shown below).')\n",
    "    st.write(df)\n",
    "\n",
    "# Reads in saved classification model\n",
    "if st.button(\"\\nPredict\"):\n",
    "    load_clf = pickle.load(open('model_pickle', 'rb'))\n",
    "\n",
    "    # Apply model to make predictions\n",
    "    prediction = load_clf.predict(df)\n",
    "\n",
    "\n",
    "    st.subheader('Prediction')\n",
    "    Outcome = np.array([0,1])\n",
    "    if(Outcome[prediction]==0):\n",
    "        st.write('No need to worry! Person is Healthy')\n",
    "    else:\n",
    "        st.write('Person is Diabetic')"
   ]
  },
  {
   "cell_type": "code",
   "execution_count": null,
   "metadata": {},
   "outputs": [],
   "source": []
  }
 ],
 "metadata": {
  "kernelspec": {
   "display_name": "Python 3",
   "language": "python",
   "name": "python3"
  },
  "language_info": {
   "codemirror_mode": {
    "name": "ipython",
    "version": 3
   },
   "file_extension": ".py",
   "mimetype": "text/x-python",
   "name": "python",
   "nbconvert_exporter": "python",
   "pygments_lexer": "ipython3",
   "version": "3.7.6"
  }
 },
 "nbformat": 4,
 "nbformat_minor": 4
}
